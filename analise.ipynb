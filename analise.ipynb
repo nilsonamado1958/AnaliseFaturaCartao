{
 "cells": [
  {
   "cell_type": "markdown",
   "metadata": {},
   "source": [
    "Análise de Dados de Fatura de Cartão de Crédito\n",
    "\n",
    "Lógica da Aplicação:\n",
    "* 1 - Ler e usar as bibliotecas necessárias\n",
    "* 2 - Ler e orgnizar a base de dados (cartao.csv)\n",
    "* 3 - Iniciar o processo de análise de dados\n",
    "* 4 - Gerar Gráficos \n",
    "\n"
   ]
  },
  {
   "cell_type": "markdown",
   "metadata": {},
   "source": [
    "Passo 01: Ler as bibliotecas"
   ]
  },
  {
   "cell_type": "code",
   "execution_count": null,
   "metadata": {},
   "outputs": [],
   "source": [
    "import pandas as pd\n",
    "import matplotlib.pyplot as plt"
   ]
  },
  {
   "cell_type": "markdown",
   "metadata": {},
   "source": [
    "Passo 02: Ler a base e organizá-la"
   ]
  },
  {
   "cell_type": "code",
   "execution_count": null,
   "metadata": {},
   "outputs": [],
   "source": [
    "dados = pd.read_csv('fatura.csv')\n",
    "# Exibe informações sobre o DataFrame: dados.info()\n",
    "dados.head()"
   ]
  },
  {
   "cell_type": "markdown",
   "metadata": {},
   "source": [
    "Passo 03: Iniciar o processo de análise de dados (cartao.csv)\n",
    "\n",
    "- Valor total da Fatura:"
   ]
  },
  {
   "cell_type": "code",
   "execution_count": null,
   "metadata": {},
   "outputs": [],
   "source": [
    "valor_total_cartao = dados['ValorCompra'].sum()\n",
    "#print(f\"{valor_total_cartao}\")\n",
    "print(f\"{valor_total_cartao:.2f}\")"
   ]
  },
  {
   "cell_type": "markdown",
   "metadata": {},
   "source": [
    "Passo 03: Iniciar o processo de análise de dados (cartao.csv)\n",
    "\n",
    "- Valor gasto por Titular:"
   ]
  },
  {
   "cell_type": "code",
   "execution_count": null,
   "metadata": {},
   "outputs": [],
   "source": [
    "# Calcular o valor gasto por titular\n",
    "valor_gasto_por_titular = dados.groupby('Nome')['ValorCompra'].sum()\n",
    "valor_gasto_por_titular = dados.groupby('Nome')['ValorCompra'].sum().reset_index().sort_values(by='ValorCompra',ascending=False)\n",
    "valor_gasto_por_titular"
   ]
  },
  {
   "cell_type": "markdown",
   "metadata": {},
   "source": [
    "Passo 03: Iniciar o processo de análise de dados (cartao.csv)\n",
    "\n",
    "- Valor gasto por Categoria:"
   ]
  },
  {
   "cell_type": "code",
   "execution_count": null,
   "metadata": {},
   "outputs": [],
   "source": [
    "# Calcular o valor gasto por categoria\n",
    "valor_gasto_por_categoria = dados.groupby('categoria')['ValorCompra'].sum().reset_index().sort_values(by='ValorCompra',ascending=False)\n",
    "valor_gasto_por_categoria"
   ]
  },
  {
   "cell_type": "markdown",
   "metadata": {},
   "source": [
    "Passo 03: Iniciar o processo de análise de dados (cartao.csv)\n",
    "\n",
    "- Dias que mais ocorreram gastos:"
   ]
  },
  {
   "cell_type": "code",
   "execution_count": null,
   "metadata": {},
   "outputs": [],
   "source": [
    "gastos_por_dia = dados.groupby('data_compra')['ValorCompra'].sum().reset_index()\n",
    "gastos_por_dia = gastos_por_dia.sort_values(by='data_compra',ascending=True)\n",
    "gastos_por_dia\n",
    "#gastos_por_dia.head(5)"
   ]
  },
  {
   "cell_type": "markdown",
   "metadata": {},
   "source": [
    "Passo 04: Gerar os Gráficos Financeiros.\n",
    "\n",
    "- Gastos por Pessoa/titular"
   ]
  },
  {
   "cell_type": "code",
   "execution_count": null,
   "metadata": {},
   "outputs": [],
   "source": [
    "# Gráfico de valor gasto por titular\n",
    "plt.figure(figsize=(10, 6))\n",
    "plt.bar(valor_gasto_por_titular['Nome'], valor_gasto_por_titular['ValorCompra'], color='skyblue')\n",
    "plt.title('Valor Gasto por Titular')\n",
    "plt.xlabel('Titular')\n",
    "plt.ylabel('Valor Gasto (R$)')\n",
    "plt.xticks(rotation=45)\n",
    "plt.tight_layout()\n",
    "plt.show()"
   ]
  },
  {
   "cell_type": "markdown",
   "metadata": {},
   "source": [
    "Passo 04: Gerar os Gráficos Financeiros.\n",
    "\n",
    "- Gastos por categoria"
   ]
  },
  {
   "cell_type": "code",
   "execution_count": null,
   "metadata": {},
   "outputs": [],
   "source": [
    "plt.figure(figsize=(10, 6))\n",
    "plt.barh(valor_gasto_por_categoria['categoria'], valor_gasto_por_categoria['ValorCompra'], color='skyblue')\n",
    "plt.xlabel('Valor da Compra')\n",
    "plt.ylabel('Categoria')\n",
    "plt.title('Gastos por Categoria')\n",
    "plt.gca().invert_yaxis()  # Inverte o eixo para mostrar as categorias de maior valor no topo\n",
    "plt.show()"
   ]
  },
  {
   "cell_type": "markdown",
   "metadata": {},
   "source": [
    "Passo 04: Gerar os Gráficos Financeiros.\n",
    "\n",
    "- Gastos por Titular"
   ]
  },
  {
   "cell_type": "code",
   "execution_count": null,
   "metadata": {},
   "outputs": [],
   "source": [
    "# Criar o gráfico de pizza\n",
    "plt.figure(figsize=(5, 5))\n",
    "plt.pie(valor_gasto_por_titular['ValorCompra'], labels=valor_gasto_por_titular['Nome'], autopct='%1.1f%%', startangle=140)\n",
    "# Título do gráfico\n",
    "plt.title('Distribuição dos Gastos por Titular')\n",
    "# Mostrar o gráfico\n",
    "gastos_titular = plt.show()\n"
   ]
  },
  {
   "cell_type": "markdown",
   "metadata": {},
   "source": [
    "Passo 04: Gerar os Gráficos Financeiros.\n",
    "\n",
    "- Gastos por mes"
   ]
  },
  {
   "cell_type": "code",
   "execution_count": null,
   "metadata": {},
   "outputs": [],
   "source": [
    "plt.figure(figsize=(10, 6))\n",
    "\n",
    "plt.plot(gastos_por_dia['data_compra'], gastos_por_dia['ValorCompra'], marker='o', linestyle='-', color='b')\n",
    "\n",
    "# Adicionar título e rótulos aos eixos\n",
    "plt.title('Gastos ao Longo do Tempo')\n",
    "plt.xlabel('Data da Compra')\n",
    "plt.ylabel('Valor da Compra')\n",
    "\n",
    "# Rotacionar as datas no eixo X para melhor visualização\n",
    "plt.xticks(rotation=45)\n",
    " \n",
    "# Mostrar o gráfico\n",
    "plt.grid(True)\n",
    "plt.show() "
   ]
  }
 ],
 "metadata": {
  "kernelspec": {
   "display_name": "Python 3",
   "language": "python",
   "name": "python3"
  },
  "language_info": {
   "codemirror_mode": {
    "name": "ipython",
    "version": 3
   },
   "file_extension": ".py",
   "mimetype": "text/x-python",
   "name": "python",
   "nbconvert_exporter": "python",
   "pygments_lexer": "ipython3",
   "version": "3.12.1"
  }
 },
 "nbformat": 4,
 "nbformat_minor": 2
}
